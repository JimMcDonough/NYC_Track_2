{
 "cells": [
  {
   "cell_type": "markdown",
   "metadata": {},
   "source": [
    "### HACKtheMACHINE 2019"
   ]
  },
  {
   "cell_type": "code",
   "execution_count": 9,
   "metadata": {},
   "outputs": [],
   "source": [
    "#Import Libraries (seaborn,matplotlib,pandas,numpy,math,sklearn,tensorflow,keras,sys,os,warnings)\n",
    "import matplotlib.pyplot as plt\n",
    "import pandas as pd\n",
    "import numpy as np\n",
    "from numpy import * #from numpy import reshape \n",
    "from math import *\n",
    "\n",
    "#scikit-learn libraries\n",
    "import sklearn.gaussian_process as gp\n",
    "import sklearn.preprocessing\n",
    "import sklearn.decomposition\n",
    "import sklearn.cross_decomposition\n",
    "import sklearn.neighbors\n",
    "import sklearn.model_selection\n",
    "import sklearn.metrics\n",
    "from sklearn.preprocessing import StandardScaler, OneHotEncoder,RobustScaler\n",
    "from sklearn.preprocessing import *\n",
    "from sklearn.cluster import DBSCAN\n",
    " \n",
    "#Tensorflow and keras libraries\n",
    "import tensorflow,keras\n",
    "import tensorflow as tf\n",
    "import keras.utils.np_utils\n",
    "import keras.preprocessing.sequence\n",
    "import keras.optimizers\n",
    "import keras.backend as K\n",
    "import keras.callbacks\n",
    "from keras.models import Sequential\n",
    "from keras.layers import Dense, Dropout, Activation, Flatten,TimeDistributed,LeakyReLU,BatchNormalization\n",
    "from keras.layers import Embedding,Bidirectional\n",
    "from keras.layers import Conv1D, GlobalAveragePooling1D, MaxPooling1D,AveragePooling1D,LSTM\n",
    "from keras.models import Model\n",
    "from keras.callbacks import ReduceLROnPlateau    \n",
    "from keras import optimizers\n",
    "from numpy import reshape\n",
    "from numpy.random import seed\n",
    "from tensorflow import set_random_seed\n",
    "\n",
    "\n",
    "import sys\n",
    "import os.path\n",
    "\n",
    "import seaborn as sns \n",
    "\n",
    "from sklearn.ensemble import RandomForestClassifier\n",
    "\n",
    "#ARC GIS\n",
    "from arcgis import *\n",
    "\n",
    "#Cluster analysis\n",
    "from sklearn.cluster import DBSCAN\n",
    "            "
   ]
  },
  {
   "cell_type": "code",
   "execution_count": 10,
   "metadata": {},
   "outputs": [],
   "source": [
    "import pandas as pd\n",
    "import seaborn as sns\n",
    "import numpy as np\n",
    "import matplotlib.pyplot as plt\n",
    "plt.rcParams['figure.figsize'] = 10,6\n",
    "import warnings\n",
    "warnings.filterwarnings(\"ignore\")\n",
    "\n",
    "import geopy\n",
    "from geopy.distance import great_circle, vincenty\n",
    "\n",
    "\n",
    "from shapely.geometry import Point\n",
    "import pandas as pd\n",
    "import geopandas as gpd\n",
    "from geopandas import GeoSeries, GeoDataFrame\n",
    "\n",
    "\n",
    "from sklearn.cluster import DBSCAN\n",
    "from sklearn import metrics\n",
    "from sklearn.datasets.samples_generator import make_blobs\n",
    "from sklearn.preprocessing import StandardScaler\n",
    "\n",
    "from pyclustering.cluster.optics import optics\n",
    "from pyclustering.samples.definitions import FCPS_SAMPLES\n",
    "from pyclustering.utils import read_sample\n"
   ]
  },
  {
   "cell_type": "code",
   "execution_count": 11,
   "metadata": {
    "scrolled": true
   },
   "outputs": [],
   "source": [
    "import xgboost as xgb"
   ]
  },
  {
   "cell_type": "code",
   "execution_count": 12,
   "metadata": {},
   "outputs": [],
   "source": [
    "np.random.seed(42) #set seed to make results replicable\n",
    "data_path = '/Users/Richard/Documents/DL Predictive Modeling/HACKtheMACHINE19' #set path\n",
    "\n",
    "#save all plots to a plot folder\n",
    "if not os.path.exists(data_path): \n",
    "    os.mkdir(data_path)\n",
    "plot_path = 'plots'\n",
    "if not os.path.exists(plot_path):\n",
    "    os.mkdir(plot_path)"
   ]
  },
  {
   "cell_type": "code",
   "execution_count": 15,
   "metadata": {},
   "outputs": [],
   "source": [
    "df= pd.read_csv(os.path.join(data_path, 'HtM NYC_MAF Data_Early Release.csv'))\n",
    "#df2= pd.read_csv(os.path.join(data_path, 'HtM_MSP_Early Release.csv'))\n"
   ]
  },
  {
   "cell_type": "code",
   "execution_count": 16,
   "metadata": {},
   "outputs": [
    {
     "data": {
      "text/html": [
       "<div>\n",
       "<style scoped>\n",
       "    .dataframe tbody tr th:only-of-type {\n",
       "        vertical-align: middle;\n",
       "    }\n",
       "\n",
       "    .dataframe tbody tr th {\n",
       "        vertical-align: top;\n",
       "    }\n",
       "\n",
       "    .dataframe thead th {\n",
       "        text-align: right;\n",
       "    }\n",
       "</style>\n",
       "<table border=\"1\" class=\"dataframe\">\n",
       "  <thead>\n",
       "    <tr style=\"text-align: right;\">\n",
       "      <th></th>\n",
       "      <th>Job Code</th>\n",
       "      <th>Aircraft</th>\n",
       "      <th>Transaction Code</th>\n",
       "      <th>Malfunction Code</th>\n",
       "      <th>Action Taken Code</th>\n",
       "      <th>Description of Problem</th>\n",
       "      <th>Correction of Problem</th>\n",
       "      <th>Received Date</th>\n",
       "      <th>Completion Date</th>\n",
       "      <th>Corrosion</th>\n",
       "      <th>Bare Metal</th>\n",
       "      <th>Corrosion Prevention Treatment</th>\n",
       "      <th>Routine Maintenance</th>\n",
       "      <th>Unscheduled Maintenance</th>\n",
       "      <th>Mission-Related Maintenance</th>\n",
       "      <th>Failure</th>\n",
       "    </tr>\n",
       "  </thead>\n",
       "  <tbody>\n",
       "    <tr>\n",
       "      <th>0</th>\n",
       "      <td>29L1HRLP65324239</td>\n",
       "      <td>1.0</td>\n",
       "      <td>11.0</td>\n",
       "      <td>000</td>\n",
       "      <td>0</td>\n",
       "      <td>Perform a periodic inspection</td>\n",
       "      <td>Completed the inspection</td>\n",
       "      <td>11/19/12</td>\n",
       "      <td>11/26/12</td>\n",
       "      <td>NaN</td>\n",
       "      <td>NaN</td>\n",
       "      <td>NaN</td>\n",
       "      <td>Yes</td>\n",
       "      <td>NaN</td>\n",
       "      <td>NaN</td>\n",
       "      <td>NaN</td>\n",
       "    </tr>\n",
       "    <tr>\n",
       "      <th>1</th>\n",
       "      <td>29L1G6WP65246270</td>\n",
       "      <td>1.0</td>\n",
       "      <td>11.0</td>\n",
       "      <td>000</td>\n",
       "      <td>0</td>\n",
       "      <td>Perform corrosion prevention treatment on the ...</td>\n",
       "      <td>Performed corrosion prevention</td>\n",
       "      <td>9/2/12</td>\n",
       "      <td>9/3/12</td>\n",
       "      <td>NaN</td>\n",
       "      <td>NaN</td>\n",
       "      <td>Yes</td>\n",
       "      <td>NaN</td>\n",
       "      <td>NaN</td>\n",
       "      <td>NaN</td>\n",
       "      <td>NaN</td>\n",
       "    </tr>\n",
       "    <tr>\n",
       "      <th>2</th>\n",
       "      <td>29L1MVAP65126453</td>\n",
       "      <td>1.0</td>\n",
       "      <td>11.0</td>\n",
       "      <td>000</td>\n",
       "      <td>0</td>\n",
       "      <td>Perform a periodic inspection</td>\n",
       "      <td>Completed the inspection</td>\n",
       "      <td>5/6/13</td>\n",
       "      <td>5/19/13</td>\n",
       "      <td>NaN</td>\n",
       "      <td>NaN</td>\n",
       "      <td>NaN</td>\n",
       "      <td>Yes</td>\n",
       "      <td>NaN</td>\n",
       "      <td>NaN</td>\n",
       "      <td>NaN</td>\n",
       "    </tr>\n",
       "    <tr>\n",
       "      <th>3</th>\n",
       "      <td>3MNC6U7P6G277488</td>\n",
       "      <td>1.0</td>\n",
       "      <td>11.0</td>\n",
       "      <td>381</td>\n",
       "      <td>C</td>\n",
       "      <td>A system, component, part, or surface on the a...</td>\n",
       "      <td>Observed the area and attempted to repair it</td>\n",
       "      <td>10/4/18</td>\n",
       "      <td>10/5/18</td>\n",
       "      <td>NaN</td>\n",
       "      <td>NaN</td>\n",
       "      <td>NaN</td>\n",
       "      <td>NaN</td>\n",
       "      <td>Yes</td>\n",
       "      <td>NaN</td>\n",
       "      <td>NaN</td>\n",
       "    </tr>\n",
       "    <tr>\n",
       "      <th>4</th>\n",
       "      <td>3TKLETXP62184570</td>\n",
       "      <td>1.0</td>\n",
       "      <td>11.0</td>\n",
       "      <td>000</td>\n",
       "      <td>0</td>\n",
       "      <td>Perform a periodic inspection</td>\n",
       "      <td>Completed the inspection</td>\n",
       "      <td>7/3/18</td>\n",
       "      <td>7/3/18</td>\n",
       "      <td>NaN</td>\n",
       "      <td>NaN</td>\n",
       "      <td>NaN</td>\n",
       "      <td>Yes</td>\n",
       "      <td>NaN</td>\n",
       "      <td>NaN</td>\n",
       "      <td>NaN</td>\n",
       "    </tr>\n",
       "  </tbody>\n",
       "</table>\n",
       "</div>"
      ],
      "text/plain": [
       "           Job Code  Aircraft  Transaction Code Malfunction Code  \\\n",
       "0  29L1HRLP65324239       1.0              11.0              000   \n",
       "1  29L1G6WP65246270       1.0              11.0              000   \n",
       "2  29L1MVAP65126453       1.0              11.0              000   \n",
       "3  3MNC6U7P6G277488       1.0              11.0              381   \n",
       "4  3TKLETXP62184570       1.0              11.0              000   \n",
       "\n",
       "  Action Taken Code                             Description of Problem  \\\n",
       "0                 0                      Perform a periodic inspection   \n",
       "1                 0  Perform corrosion prevention treatment on the ...   \n",
       "2                 0                      Perform a periodic inspection   \n",
       "3                 C  A system, component, part, or surface on the a...   \n",
       "4                 0                      Perform a periodic inspection   \n",
       "\n",
       "                          Correction of Problem Received Date Completion Date  \\\n",
       "0                      Completed the inspection      11/19/12        11/26/12   \n",
       "1                Performed corrosion prevention        9/2/12          9/3/12   \n",
       "2                      Completed the inspection        5/6/13         5/19/13   \n",
       "3  Observed the area and attempted to repair it       10/4/18         10/5/18   \n",
       "4                      Completed the inspection        7/3/18          7/3/18   \n",
       "\n",
       "  Corrosion Bare Metal Corrosion Prevention Treatment Routine Maintenance  \\\n",
       "0       NaN        NaN                            NaN                 Yes   \n",
       "1       NaN        NaN                            Yes                 NaN   \n",
       "2       NaN        NaN                            NaN                 Yes   \n",
       "3       NaN        NaN                            NaN                 NaN   \n",
       "4       NaN        NaN                            NaN                 Yes   \n",
       "\n",
       "  Unscheduled Maintenance Mission-Related Maintenance Failure  \n",
       "0                     NaN                         NaN     NaN  \n",
       "1                     NaN                         NaN     NaN  \n",
       "2                     NaN                         NaN     NaN  \n",
       "3                     Yes                         NaN     NaN  \n",
       "4                     NaN                         NaN     NaN  "
      ]
     },
     "execution_count": 16,
     "metadata": {},
     "output_type": "execute_result"
    }
   ],
   "source": [
    "df.head()"
   ]
  },
  {
   "cell_type": "code",
   "execution_count": 39,
   "metadata": {},
   "outputs": [
    {
     "name": "stdout",
     "output_type": "stream",
     "text": [
      "object float64 object\n"
     ]
    }
   ],
   "source": [
    "#print(df['Malfunction Code'].dtype,df['Aircraft'].dtype,df['Action Taken Code'].dtype)\n",
    "print(df['Received Date'].dtype,df['Aircraft'].dtype,df['Action Taken Code'].dtype)"
   ]
  },
  {
   "cell_type": "code",
   "execution_count": 42,
   "metadata": {},
   "outputs": [
    {
     "name": "stdout",
     "output_type": "stream",
     "text": [
      "Aircraft\n",
      "1.0     101\n",
      "2.0      98\n",
      "3.0      97\n",
      "4.0     103\n",
      "5.0      92\n",
      "6.0      94\n",
      "7.0     102\n",
      "8.0      81\n",
      "9.0      87\n",
      "10.0     79\n",
      "Name: Malfunction Code, dtype: int64\n"
     ]
    }
   ],
   "source": [
    "#df['Malfunction Code'] = df['Malfunction Code'].astype(str)\n",
    "#print(df.groupby('Aircraft')['Action Taken Code'].nunique())\n",
    "print(df.groupby('Aircraft')['Malfunction Code'].nunique())"
   ]
  },
  {
   "cell_type": "code",
   "execution_count": 16,
   "metadata": {},
   "outputs": [
    {
     "data": {
      "text/html": [
       "<div>\n",
       "<style scoped>\n",
       "    .dataframe tbody tr th:only-of-type {\n",
       "        vertical-align: middle;\n",
       "    }\n",
       "\n",
       "    .dataframe tbody tr th {\n",
       "        vertical-align: top;\n",
       "    }\n",
       "\n",
       "    .dataframe thead th {\n",
       "        text-align: right;\n",
       "    }\n",
       "</style>\n",
       "<table border=\"1\" class=\"dataframe\">\n",
       "  <thead>\n",
       "    <tr style=\"text-align: right;\">\n",
       "      <th></th>\n",
       "      <th>Aircraft</th>\n",
       "      <th>Transaction Code</th>\n",
       "    </tr>\n",
       "  </thead>\n",
       "  <tbody>\n",
       "    <tr>\n",
       "      <th>count</th>\n",
       "      <td>81599.000000</td>\n",
       "      <td>81599.000000</td>\n",
       "    </tr>\n",
       "    <tr>\n",
       "      <th>mean</th>\n",
       "      <td>5.064462</td>\n",
       "      <td>12.381304</td>\n",
       "    </tr>\n",
       "    <tr>\n",
       "      <th>std</th>\n",
       "      <td>2.703197</td>\n",
       "      <td>5.666612</td>\n",
       "    </tr>\n",
       "    <tr>\n",
       "      <th>min</th>\n",
       "      <td>1.000000</td>\n",
       "      <td>11.000000</td>\n",
       "    </tr>\n",
       "    <tr>\n",
       "      <th>25%</th>\n",
       "      <td>3.000000</td>\n",
       "      <td>11.000000</td>\n",
       "    </tr>\n",
       "    <tr>\n",
       "      <th>50%</th>\n",
       "      <td>5.000000</td>\n",
       "      <td>11.000000</td>\n",
       "    </tr>\n",
       "    <tr>\n",
       "      <th>75%</th>\n",
       "      <td>7.000000</td>\n",
       "      <td>11.000000</td>\n",
       "    </tr>\n",
       "    <tr>\n",
       "      <th>max</th>\n",
       "      <td>10.000000</td>\n",
       "      <td>47.000000</td>\n",
       "    </tr>\n",
       "  </tbody>\n",
       "</table>\n",
       "</div>"
      ],
      "text/plain": [
       "           Aircraft  Transaction Code\n",
       "count  81599.000000      81599.000000\n",
       "mean       5.064462         12.381304\n",
       "std        2.703197          5.666612\n",
       "min        1.000000         11.000000\n",
       "25%        3.000000         11.000000\n",
       "50%        5.000000         11.000000\n",
       "75%        7.000000         11.000000\n",
       "max       10.000000         47.000000"
      ]
     },
     "execution_count": 16,
     "metadata": {},
     "output_type": "execute_result"
    }
   ],
   "source": [
    "df.describe()"
   ]
  },
  {
   "cell_type": "code",
   "execution_count": 17,
   "metadata": {},
   "outputs": [
    {
     "data": {
      "image/png": "[encoded data removed]",
      "text/plain": [
       "<Figure size 720x720 with 2 Axes>"
      ]
     },
     "metadata": {},
     "output_type": "display_data"
    }
   ],
   "source": [
    "plt.rcParams['figure.figsize'] = 10,10\n",
    "df.hist(bins=100);\n",
    "plt.show()"
   ]
  },
  {
   "cell_type": "code",
   "execution_count": 19,
   "metadata": {},
   "outputs": [
    {
     "data": {
      "image/png": "[encoded data removed]",
      "text/plain": [
       "<Figure size 720x432 with 1 Axes>"
      ]
     },
     "metadata": {},
     "output_type": "display_data"
    },
    {
     "data": {
      "image/png": "[encoded data removed]",
      "text/plain": [
       "<Figure size 720x432 with 1 Axes>"
      ]
     },
     "metadata": {},
     "output_type": "display_data"
    }
   ],
   "source": [
    "plt.rcParams['figure.figsize'] = 10,6\n",
    "for col in ['Aircraft','Transaction Code']:\n",
    "    df[col].value_counts().plot(kind='bar')\n",
    "    plt.title(str(col)+ \" Value Counts\")\n",
    "    plt.show()"
   ]
  },
  {
   "cell_type": "code",
   "execution_count": null,
   "metadata": {},
   "outputs": [],
   "source": []
  }
 ],
 "metadata": {
  "kernelspec": {
   "display_name": "Python 3",
   "language": "python",
   "name": "python3"
  },
  "language_info": {
   "codemirror_mode": {
    "name": "ipython",
    "version": 3
   },
   "file_extension": ".py",
   "mimetype": "text/x-python",
   "name": "python",
   "nbconvert_exporter": "python",
   "pygments_lexer": "ipython3",
   "version": "3.6.4"
  }
 },
 "nbformat": 4,
 "nbformat_minor": 2
}
